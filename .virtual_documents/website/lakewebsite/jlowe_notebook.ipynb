


import numpy as np
import matplotlib.pyplot as plt
import pandas as pd
import os
from shapely.geometry import Point, Polygon
import folium
from folium import Element
import ipywidgets as widgets
from IPython.display import display
from IPython.display import clear_output
from base64 import b64encode
import glob
from rasterio.plot import show
import rasterio
from matplotlib.ticker import ScalarFormatter
import cmocean
import geopandas as gpd





# read in all casts processed in total_df.ipynb
total_df = pd.read_csv('data/total_df.csv')

# display the first 5 rows of the df 
total_df.head()


# Extract the first row for each cast (based on File Name)
cast_locations = total_df.groupby("File Name").first().reset_index()

# Optional: if you want only lat/lon and filename
cast_locations = cast_locations[["Latitude", "Longitude", "File Name"]]





# Create DataFrame
image_df = pd.read_csv('data/profile_data.csv')
image_df.head()


total_df = total_df.drop('TestType_x', axis=1)
total_df = total_df.drop('ImagePath_y', axis=1)
total_df = total_df.drop('TestType_y', axis=1)
total_df = total_df.drop('ImagePath_x', axis=1)



# Merge 'TestType' from cast_locations into total_df based on 'File Name'
cast_locations['TestType'] = image_df['TestType']
cast_locations['ImagePath'] = image_df['ImagePath']
total_df = total_df.merge(image_df[['File Name', 'TestType']], on='File Name', how='left')    
total_df = total_df.merge(image_df[['File Name', 'ImagePath']], on='File Name', how='left') 
total_df.head()
#total_df.to_csv('../data/total_df.csv')





# ---- Define Polygons ----
polygon_coords = {
    'DOC': [(40.28429, -106.85365), (40.28360, -106.85341), (40.28240, -106.85488), (40.28356, -106.85524)],
    'HAR': [(40.28424, -106.85348), (40.28565, -106.85185), (40.28797, -106.85680), (40.28793, -106.85836)],
    'MOR': [(40.28003, -106.84560), (40.28021, -106.84274), (40.27252, -106.83760), (40.27183, -106.84056)],
    'GLZ': [(40.27291, -106.84515), (40.27610, -106.85043), (40.27509, -106.85397), (40.27129, -106.84970)],
    'KEY': [(40.27705, -106.86361), (40.27700, -106.86697), (40.28124, -106.86839), (40.28180, -106.86597)],
    'LIL': [(40.27265, -106.86163), (40.27315, -106.85961), (40.27114, -106.85906), (40.27115, -106.86068)],
    'ASP': [(40.272286, -106.876870),(40.272286, -106.876599),(40.272016, -106.876599),(40.272016, -106.876870)]
}
polygons = {name: Polygon(coords) for name, coords in polygon_coords.items()}

# ---- Classify Points by Area ----
def get_area(lat, lon):
    point = Point(lat, lon)
    for name, poly in polygons.items():
        if poly.contains(point):
            return name
    return 'MID'

# ---- Process Data ----
cast_locations['Area'] = cast_locations.apply(lambda row: get_area(row['Latitude'], row['Longitude']), axis=1)
total_df['Area'] = total_df.apply(lambda row: get_area(row['Latitude'], row['Longitude']), axis=1)
cast_locations['Date'] = pd.to_datetime(cast_locations['File Name'].str.extract(r'_(\d{8})_')[0], format='%Y%m%d')


# ---- Color Map for Areas ----
area_colors = {
    'DOC': 'red',
    'HAR': 'cyan',
    'MOR': 'purple',
    'GLZ': 'orange',
    'KEY': 'darkblue',
    'LIL': 'darkred',
    'ASP': 'pink',
    'MID': 'gray'
}

# ---- Legend HTML ----
legend_html = """
<div style="
    position: fixed; 
    bottom: 30px; left: 30px; width: 150px; z-index:500;
    background-color: white; padding: 10px; border: 2px solid grey;
    box-shadow: 2px 2px 6px rgba(0,0,0,0.3); font-size:14px;">
<b>Areas</b><br>
<i style='background:red; width:10px; height:10px; float:left; margin-right:8px; display:inline-block'></i>Dock<br>
<i style='background:cyan; width:10px; height:10px; float:left; margin-right:8px; display:inline-block'></i>Harding Cove<br>
<i style='background:purple; width:10px; height:10px; float:left; margin-right:8px; display:inline-block'></i>Morrison Cove<br>
<i style='background:orange; width:10px; height:10px; float:left; margin-right:8px; display:inline-block'></i>Glizzy Cove<br>
<i style='background:darkblue; width:10px; height:10px; float:left; margin-right:8px; display:inline-block'></i>Keystone Cove<br>
<i style='background:darkred; width:10px; height:10px; float:left; margin-right:8px; display:inline-block'></i>Small Inlet<br>
<i style='background:pink; width:10px; height:10px; float:left; margin-right:8px; display:inline-block'></i>Aspen View<br>
<i style='background:gray; width:10px; height:10px; float:left; margin-right:8px; display:inline-block'></i>Middle of Reservoir
</div>
"""

# ---- Widget Setup ----
date_picker = widgets.DatePicker(description='Pick a date', value=cast_locations['Date'].min())
toggle_button = widgets.ToggleButton(value=True, description="Show All Data", button_style='info')
map_output = widgets.Output()

def update_map(change=None):
    with map_output:
        clear_output(wait=True)
        if toggle_button.value:
            filtered = cast_locations
        else:
            selected_date = date_picker.value
            filtered = cast_locations[cast_locations['Date'] == pd.to_datetime(selected_date)]
        
        # Create map
        m = folium.Map(
            location=[filtered["Latitude"].mean(), filtered["Longitude"].mean()],
            zoom_start=13
        )

        # ---- Plot Polygons ----
#        for name, coords in polygon_coords.items():
#            folium.Polygon(
#                locations=coords,
#                color=area_colors[name],
#                fill=True,
#                fill_opacity=0.15,
#                popup=f"{name} Area"
#            ).add_to(m)
        
        # Plot points
        for _, row in filtered.iterrows():

            if row['TestType'] == 'point':
                # Show raw measurement values
                point = total_df[total_df['File Name'] == row['File Name']]
                popup_html = f"""
                <b>File:</b> {row['File Name']}<br>
                <b>Test Type:</b> {'Point'}<br>
                <b>Lat:</b> {row['Latitude']}<br>
                <b>Lon:</b> {row['Longitude']}<br>
                <b>Area:</b> {row['Area']}<br>
                <b>Temperature (°C):</b> {point['Temperature (°C)'].iloc[0]}<br>
                <b>Conductivity (µS/cm):</b> {point['Conductivity (µS/cm)'].iloc[0]}<br>
                <b>Salinity (PSS):</b> {point['Salinity (PSS)'].iloc[0]}<br>
                <b>Density (kg/m³):</b> {point['Density (kg/m³)'].iloc[0]}<br>
                """
                iframe = folium.IFrame(popup_html, width=300, height=250)
                popup = folium.Popup(iframe, max_width=300)   

            elif row['TestType'] == 'cast':
                with open(row['ImagePath'], 'rb') as f:
                    encoded = b64encode(f.read()).decode()
                popup_html = f"""
                    <div>
                        <a href="data:image/png;base64,{encoded}" target="_blank">
                            <img src="data:image/png;base64,{encoded}" width="700">
                        </a><br>
                        <b>Date:</b> {row['Date'].date()}<br>
                        <b>Test Type:</b> {'Cast'}<br>
                        <b>File:</b> {row['File Name']}<br>
                        <b>Lat:</b> {row['Latitude']}<br>
                        <b>Lon:</b> {row['Longitude']}<br>
                        <b>Area:</b> {row['Area']}
                    </div>
                """
                iframe = folium.IFrame(html=popup_html, width=450, height=300)
                popup = folium.Popup(iframe, max_width=450)    
            
            folium.CircleMarker(
                location=[row["Latitude"], row["Longitude"]],
                radius=5,
                popup = popup,
                color=area_colors.get(row["Area"], "gray"),
                fill=True,
                fill_color=area_colors.get(row["Area"], "gray"),
                fill_opacity=0.9
            ).add_to(m)

        m.get_root().html.add_child(Element(legend_html))
        display(m)
        m.save("map.html")

# ---- Connect Handlers ----
date_picker.observe(update_map, names='value')
toggle_button.observe(update_map, names='value')

# ---- Show UI ----
display(widgets.HBox([date_picker, toggle_button]))
display(map_output)
update_map()  # Initial call






