


from IPython.display import IFrame
IFrame('map.html', width='100%', height=500)



