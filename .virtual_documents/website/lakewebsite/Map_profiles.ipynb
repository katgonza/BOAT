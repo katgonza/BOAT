


import pandas as pd
import numpy as np 
import os
import matplotlib.pyplot as plt


total_df = pd.read_csv('data/total_df.csv')


output_dir = "data/profiles"
os.makedirs(output_dir, exist_ok=True)

grouped_meas = total_df.groupby('File Name')

# We'll collect all data into a list of dicts
image_data = []

for date, group in grouped_meas:
    group = group.sort_values(by='Depth (m)') 

    # Determine test type based on number of depth values
    test_type = "point" if group['Depth (m)'].nunique() <= 1 else "cast"

    if test_type == "cast":
        fig, axs = plt.subplots(1, 4, figsize=(20, 6), sharey=True)
        fig.suptitle(f'Profiles on {date}', fontsize=36)

        axs[0].plot(group['Temperature (°C)'], group['Depth (m)'])
        axs[0].set_xlabel('Temperature (°C)', fontsize=24, fontweight='bold')
        axs[0].set_ylabel('Depth (m)', fontsize=24, fontweight='bold')
        axs[0].invert_yaxis()

        axs[1].plot(group['Conductivity (µS/cm)'], group['Depth (m)'])
        axs[1].set_xlabel('Conductivity (µS/cm)', fontsize=24, fontweight='bold')

        axs[2].plot(group['Salinity (PSS)'], group['Depth (m)'])
        axs[2].set_xlabel('Salinity (PSS)', fontsize=24, fontweight='bold')

        axs[3].plot(group['Density (kg/m³)'], group['Depth (m)'])
        axs[3].set_xlabel('Density (kg/m³)', fontsize=24, fontweight='bold')

        for ax in axs:
            ax.tick_params(axis='both', labelsize=16)

        plt.tight_layout()

        img_path = os.path.join(output_dir, f"profile_{date}.png")
        fig.savefig(img_path)
        plt.close(fig)
    else:
        img_path = None  # No image for point measurement

    # Store info
    image_data.append({
        'File Name': date,
        'Latitude': group.iloc[0]['Latitude'],
        'Longitude': group.iloc[0]['Longitude'],
        'ImagePath': f"lakewebsite{img_path}",
        'TestType': test_type,
        'Temperature (°C)': group['Temperature (°C)'].iloc[0],
        'Conductivity (µS/cm)': group['Conductivity (µS/cm)'].iloc[0],
        'Salinity (PSS)': group['Salinity (PSS)'].iloc[0],
        'Density (kg/m³)': group['Density (kg/m³)'].iloc[0],
    })

# Create DataFrame
image_df = pd.DataFrame(image_data)
image_df.head()


image_df.to_csv('data/profile_data.csv')



