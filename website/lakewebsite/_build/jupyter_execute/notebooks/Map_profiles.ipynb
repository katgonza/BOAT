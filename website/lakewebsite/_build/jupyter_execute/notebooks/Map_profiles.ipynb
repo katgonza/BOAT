{
 "cells": [
  {
   "cell_type": "markdown",
   "id": "19933ee3-b89c-461f-914d-130f6290b32f",
   "metadata": {},
   "source": [
    "# Map_profiles.ipynb"
   ]
  },
  {
   "cell_type": "code",
   "execution_count": 1,
   "id": "670b3f8c-3fde-4407-b12b-042798a111cf",
   "metadata": {},
   "outputs": [],
   "source": [
    "import pandas as pd\n",
    "import numpy as np \n",
    "import os\n",
    "import matplotlib.pyplot as plt"
   ]
  },
  {
   "cell_type": "code",
   "execution_count": 2,
   "id": "7fb20d2c-a6fa-4002-bf6b-eaadda844ed5",
   "metadata": {},
   "outputs": [],
   "source": [
    "total_df = pd.read_csv('../data/total_df.csv')"
   ]
  },
  {
   "cell_type": "code",
   "execution_count": 3,
   "id": "81f5316d-f6c6-4ca8-acca-965117690529",
   "metadata": {},
   "outputs": [],
   "source": [
    "output_dir = \"../data/profiles\"\n",
    "os.makedirs(output_dir, exist_ok=True)\n",
    "\n",
    "grouped_meas = total_df.groupby('File Name')\n",
    "\n",
    "# We'll collect all data into a list of dicts\n",
    "image_data = []\n",
    "\n",
    "for date, group in grouped_meas:\n",
    "    group = group.sort_values(by='Depth (m)') \n",
    "\n",
    "    # Determine test type based on number of depth values\n",
    "    test_type = \"point\" if group['Depth (m)'].nunique() <= 1 else \"cast\"\n",
    "\n",
    "    if test_type == \"cast\":\n",
    "        fig, axs = plt.subplots(1, 4, figsize=(20, 6), sharey=True)\n",
    "        fig.suptitle(f'Profiles on {date}', fontsize=36)\n",
    "\n",
    "        axs[0].plot(group['Temperature (°C)'], group['Depth (m)'])\n",
    "        axs[0].set_xlabel('Temperature (°C)', fontsize=24, fontweight='bold')\n",
    "        axs[0].set_ylabel('Depth (m)', fontsize=24, fontweight='bold')\n",
    "        axs[0].invert_yaxis()\n",
    "\n",
    "        axs[1].plot(group['Conductivity (µS/cm)'], group['Depth (m)'])\n",
    "        axs[1].set_xlabel('Conductivity (µS/cm)', fontsize=24, fontweight='bold')\n",
    "\n",
    "        axs[2].plot(group['Salinity (PSS)'], group['Depth (m)'])\n",
    "        axs[2].set_xlabel('Salinity (PSS)', fontsize=24, fontweight='bold')\n",
    "\n",
    "        axs[3].plot(group['Density (kg/m³)'], group['Depth (m)'])\n",
    "        axs[3].set_xlabel('Density (kg/m³)', fontsize=24, fontweight='bold')\n",
    "\n",
    "        for ax in axs:\n",
    "            ax.tick_params(axis='both', labelsize=16)\n",
    "\n",
    "        plt.tight_layout()\n",
    "\n",
    "        img_path = os.path.join(output_dir, f\"profile_{date}.png\")\n",
    "        fig.savefig(img_path)\n",
    "        plt.close(fig)\n",
    "    else:\n",
    "        img_path = None  # No image for point measurement\n",
    "\n",
    "    # Store info\n",
    "    image_data.append({\n",
    "        'File Name': date,\n",
    "        'Latitude': group.iloc[0]['Latitude'],\n",
    "        'Longitude': group.iloc[0]['Longitude'],\n",
    "        'ImagePath': img_path,\n",
    "        'TestType': test_type,\n",
    "        'Temperature (°C)': group['Temperature (°C)'].iloc[0],\n",
    "        'Conductivity (µS/cm)': group['Conductivity (µS/cm)'].iloc[0],\n",
    "        'Salinity (PSS)': group['Salinity (PSS)'].iloc[0],\n",
    "        'Density (kg/m³)': group['Density (kg/m³)'].iloc[0],\n",
    "    })\n",
    "\n",
    "# Create DataFrame\n",
    "image_df = pd.DataFrame(image_data)\n",
    "image_df.head()"
   ]
  },
  {
   "cell_type": "code",
   "execution_count": 6,
   "id": "63b44c2b-53dc-4d2e-aadc-d2b2352c8644",
   "metadata": {},
   "outputs": [],
   "source": [
    "image_df.to_csv('../data/profile_data.csv')"
   ]
  }
 ],
 "metadata": {
  "kernelspec": {
   "display_name": "Python 3 (ipykernel)",
   "language": "python",
   "name": "python3"
  },
  "language_info": {
   "codemirror_mode": {
    "name": "ipython",
    "version": 3
   },
   "file_extension": ".py",
   "mimetype": "text/x-python",
   "name": "python",
   "nbconvert_exporter": "python",
   "pygments_lexer": "ipython3",
   "version": "3.11.10"
  }
 },
 "nbformat": 4,
 "nbformat_minor": 5
}