{
 "cells": [
  {
   "cell_type": "markdown",
   "id": "0a32b918-0dd5-47ca-a8b2-c6f8c1095ffa",
   "metadata": {},
   "source": [
    "# MAP FR"
   ]
  },
  {
   "cell_type": "code",
   "execution_count": 1,
   "id": "1d6d3146-cbb8-48ea-8173-cdaf608ee4b7",
   "metadata": {},
   "outputs": [
    {
     "data": {
      "text/html": [
       "\n",
       "        <iframe\n",
       "            width=\"100%\"\n",
       "            height=\"500\"\n",
       "            src=\"map.html\"\n",
       "            frameborder=\"0\"\n",
       "            allowfullscreen\n",
       "            \n",
       "        ></iframe>\n",
       "        "
      ],
      "text/plain": [
       "<IPython.lib.display.IFrame at 0x1d8f947fbd0>"
      ]
     },
     "execution_count": 1,
     "metadata": {},
     "output_type": "execute_result"
    }
   ],
   "source": [
    "from IPython.display import IFrame\n",
    "IFrame('map.html', width='100%', height=500)"
   ]
  },
  {
   "cell_type": "markdown",
   "id": "6e0ef2b1-f6d6-4b51-8d65-6ea6045769e5",
   "metadata": {},
   "source": [
    "<iframe src=\"../map.html\" width=\"100%\" height=\"500\"></iframe>"
   ]
  }
 ],
 "metadata": {
  "kernelspec": {
   "display_name": "Python 3 (ipykernel)",
   "language": "python",
   "name": "python3"
  },
  "language_info": {
   "codemirror_mode": {
    "name": "ipython",
    "version": 3
   },
   "file_extension": ".py",
   "mimetype": "text/x-python",
   "name": "python",
   "nbconvert_exporter": "python",
   "pygments_lexer": "ipython3",
   "version": "3.11.10"
  }
 },
 "nbformat": 4,
 "nbformat_minor": 5
}