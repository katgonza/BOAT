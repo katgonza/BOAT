import numpy as np
import matplotlib.pyplot as plt
import pandas as pd
import glob





file_path = r"C:\Users\15093\work\classes\Summer 25\Sittin on the dock of the bay\Data\All Data\CC2435009_20250513_181211.csv"

with open(file_path, 'r') as f:
    header_lines = [next(f) for _ in range(29)]


meta = {}
for line in header_lines:
    line = line.strip()
    if not line.startswith('%'):
        continue
    line = line.lstrip('%').strip()

    if not line or ',' not in line:
        continue  # skip empty or malformed lines

    key, value = line.split(',', 1)  # only split on the first comma
    meta[key.strip()] = value.strip()

print(meta)


latitude = float(meta.get("Start latitude", "nan"))
longitude = float(meta.get("Start longitude", "nan"))
utc_time = pd.to_datetime(meta.get("Cast time (UTC)", pd.NaT))
device_id = meta.get("Device", "")
file_name = meta.get("File name", "")
cast_duration = float(meta.get("Cast duration (Seconds)", "nan"))
samples_per_sec = float(meta.get("Samples per second", "nan"))

data = np.genfromtxt(file_path, delimiter=',', skip_header=29)
df = pd.DataFrame(data)

# columns of data collected
df.columns = ["Pressure (dbar)","Depth (m)", "Temperature (°C)", "Conductivity (µS/cm)", 
              "Specific Conductance (µS/cm)", "Salinity (PSS)", 
              "Sound Velocity (m/s)", "Density (kg/m³)"]

# can change what paramters of the metadata you want
df["Latitude"] = latitude
df["Longitude"] = longitude
df["UTC Time"] = utc_time
df["File Name"] = file_name
#df["Device ID"] = device_id
#df["Cast Duration"] = cast_duration
#df["Samples Per Sec"] = samples_per_sec

df





import os
import glob
import pandas as pd
import numpy as np

folder_path = r"C:\Users\15093\work\classes\Summer 25\Sittin on the dock of the bay\Data\All Data"
file_paths = glob.glob(os.path.join(folder_path, "*.csv"))

all_dfs = []

for file_path in file_paths:
    # Step 1: Read header lines (first 29 lines)
    with open(file_path, 'r', encoding='utf-8') as f:
        header_lines = [next(f) for _ in range(29)]

#collect the meta data
    meta = {}
    for line in header_lines:
        line = line.strip()
        if not line.startswith('%'):
            continue
        line = line.lstrip('%').strip()
    
        if not line or ',' not in line:
            continue  # skip empty or malformed lines
    
        key, value = line.split(',', 1)
        meta[key.strip()] = value.strip()

#skip invaliid measurement files
    if meta.get("Sample type", "").lower() == "invalid":
        print(f"Skipping file due to invalid sample: {os.path.basename(file_path)}")
        continue


    latitude = float(meta.get("Start latitude", "nan"))
    longitude = float(meta.get("Start longitude", "nan"))
    utc_time = pd.to_datetime(meta.get("Cast time (UTC)", pd.NaT))
    device_id = meta.get("Device", "")
    file_name = meta.get("File name", "")
    cast_duration = float(meta.get("Cast duration (Seconds)", "nan"))
    samples_per_sec = float(meta.get("Samples per second", "nan"))
    
    try:
        data = np.genfromtxt(file_path, delimiter=',', skip_header=29)
        if data.ndim == 1:
            data = data.reshape(1, -1)
    except Exception as e:
        continue
        
    df = pd.DataFrame(data)
    
    df.columns = ["Pressure (dbar)", "Depth (m)", "Temperature (°C)", "Conductivity (µS/cm)", 
                  "Specific Conductance (µS/cm)", "Salinity (PSS)", 
                  "Sound Velocity (m/s)", "Density (kg/m³)"]
    
    # Step 6: Add metadata columns
    df["Latitude"] = latitude
    df["Longitude"] = longitude
    df["UTC Time"] = utc_time
    df["File Name"] = file_name

    # Step 7: Append to list
    all_dfs.append(df)

# concat all dataframes
big_df = pd.concat(all_dfs, ignore_index=True)



big_df


big_df.to_csv(r'C:\Users\15093\work\classes\Summer 25\Sittin on the dock of the bay\big_df.csv', index=False)
