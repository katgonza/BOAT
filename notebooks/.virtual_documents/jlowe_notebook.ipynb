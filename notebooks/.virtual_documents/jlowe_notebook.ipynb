import numpy as np
import matplotlib.pyplot as plt
import pandas as pd
import glob


# read in all casts processed in total_df.ipynb
total_df = pd.read_csv('../data/big_df.csv')

# display the first 5 rows of the df 
total_df.head()


# Extract the first row for each cast (based on File Name)
cast_locations = total_df.groupby("File Name").first().reset_index()

# Optional: if you want only lat/lon and filename
cast_locations = cast_locations[["Latitude", "Longitude", "File Name"]]


cast_locations


pip install folium



import pandas as pd
import folium


# Create map centered at mean lat/lon
m = folium.Map(location=[
    cast_locations["Latitude"].mean(),
    cast_locations["Longitude"].mean()
], zoom_start=13)

# Add cast locations as circle markers
for _, row in cast_locations.iterrows():
    folium.CircleMarker(
        location=[row["Latitude"], row["Longitude"]],
        radius=5,
        popup=row["File Name"],
        color="blue",
        fill=True,
        fill_color="blue"
    ).add_to(m)

# Save and/or display
m.save("stagecoach_casts_map.html")
m  # Will display inline in Jupyter



import pandas as pd
from shapely.geometry import Point, Polygon
import folium
from folium import Element
import ipywidgets as widgets
from IPython.display import display
from IPython.display import clear_output
from base64 import b64encode

# ---- Define Polygons ----
polygon_coords = {
    'DOC': [(40.28429, -106.85365), (40.28360, -106.85341), (40.28240, -106.85488), (40.28356, -106.85524)],
    'HAR': [(40.28424, -106.85348), (40.28565, -106.85185), (40.28797, -106.85680), (40.28793, -106.85836)],
    'MOR': [(40.28003, -106.84560), (40.28021, -106.84274), (40.27252, -106.83760), (40.27183, -106.84056)],
    'GLZ': [(40.27291, -106.84515), (40.27610, -106.85043), (40.27509, -106.85397), (40.27129, -106.84970)],
    'KEY': [(40.27705, -106.86361), (40.27700, -106.86697), (40.28124, -106.86839), (40.28180, -106.86597)],
    'LIL': [(40.27265, -106.86163), (40.27315, -106.85961), (40.27114, -106.85906), (40.27115, -106.86068)],
    'ASP': [(40.272286, -106.876870),(40.272286, -106.876599),(40.272016, -106.876599),(40.272016, -106.876870)]
}
polygons = {name: Polygon(coords) for name, coords in polygon_coords.items()}

# ---- Classify Points by Area ----
def get_area(lat, lon):
    point = Point(lat, lon)
    for name, poly in polygons.items():
        if poly.contains(point):
            return name
    return 'MID'

# ---- Process Data ----
cast_locations['Area'] = cast_locations.apply(lambda row: get_area(row['Latitude'], row['Longitude']), axis=1)
total_df['Area'] = total_df.apply(lambda row: get_area(row['Latitude'], row['Longitude']), axis=1)
cast_locations['Date'] = pd.to_datetime(cast_locations['File Name'].str.extract(r'_(\d{8})_')[0], format='%Y%m%d')

# ---- Color Map for Areas ----
area_colors = {
    'DOC': 'red',
    'HAR': 'cyan',
    'MOR': 'purple',
    'GLZ': 'orange',
    'KEY': 'darkblue',
    'LIL': 'darkred',
    'ASP': 'pink',
    'MID': 'gray'
}

# ---- Legend HTML ----
legend_html = """
<div style="
    position: fixed; 
    bottom: 30px; left: 30px; width: 150px; z-index:400;
    background-color: white; padding: 10px; border: 2px solid grey;
    box-shadow: 2px 2px 6px rgba(0,0,0,0.3); font-size:14px;">
<b>Areas</b><br>
<i style='background:red; width:10px; height:10px; float:left; margin-right:8px; display:inline-block'></i>DOC<br>
<i style='background:cyan; width:10px; height:10px; float:left; margin-right:8px; display:inline-block'></i>HAR<br>
<i style='background:purple; width:10px; height:10px; float:left; margin-right:8px; display:inline-block'></i>MOR<br>
<i style='background:orange; width:10px; height:10px; float:left; margin-right:8px; display:inline-block'></i>GLZ<br>
<i style='background:darkblue; width:10px; height:10px; float:left; margin-right:8px; display:inline-block'></i>KEY<br>
<i style='background:darkred; width:10px; height:10px; float:left; margin-right:8px; display:inline-block'></i>LIL<br>
<i style='background:pink; width:10px; height:10px; float:left; margin-right:8px; display:inline-block'></i>ASP<br>
<i style='background:gray; width:10px; height:10px; float:left; margin-right:8px; display:inline-block'></i>MID
</div>
"""

# ---- Widget Setup ----
date_picker = widgets.DatePicker(description='Pick a date', value=cast_locations['Date'].min())
toggle_button = widgets.ToggleButton(value=False, description="Show All Data", button_style='info')
map_output = widgets.Output()

def update_map(change=None):
    with map_output:
        clear_output(wait=True)
        if toggle_button.value:
            filtered = cast_locations
        else:
            selected_date = date_picker.value
            filtered = cast_locations[cast_locations['Date'] == pd.to_datetime(selected_date)]
        
        # Create map
        m = folium.Map(
            location=[filtered["Latitude"].mean(), filtered["Longitude"].mean()],
            zoom_start=13
        )

        
        # Plot points
        for _, row in filtered.iterrows():
            with open(row['ImagePath'], 'rb') as f:
                encoded = b64encode(f.read()).decode()

            popup_html = f"""
                <div>
                    <a href="data:image/png;base64,{encoded}" target="_blank">
                        <img src="data:image/png;base64,{encoded}" width="700">
                    </a><br>
                    <b>Date:</b> {row['Date'].date()}<br>
                    <b>File:</b> {row['File Name']}<br>
                    <b>Lat:</b> {row['Latitude']}<br>
                    <b>Lon:</b> {row['Longitude']}<br>
                    <b>Area:</b> {row['Area']}
                </div>
            """

    
            iframe = folium.IFrame(html=popup_html, width=450, height=300)
            popup = folium.Popup(iframe, max_width=450)    
            
            folium.CircleMarker(
                location=[row["Latitude"], row["Longitude"]],
                radius=5,
                popup = popup,
                color=area_colors.get(row["Area"], "gray"),
                fill=True,
                fill_color=area_colors.get(row["Area"], "gray"),
                fill_opacity=0.9
            ).add_to(m)

        m.get_root().html.add_child(Element(legend_html))
        display(m)

# ---- Connect Handlers ----
date_picker.observe(update_map, names='value')
toggle_button.observe(update_map, names='value')

# ---- Show UI ----
display(widgets.HBox([date_picker, toggle_button]))
display(map_output)
update_map()  # Initial call



cast_locations[cast_locations['Area'] == 'DOC']


import os

output_dir = "profiles"
os.makedirs(output_dir, exist_ok=True)

grouped_meas = total_df.groupby('File Name')

image_paths = {}

for date, group in grouped_meas:
    group = group.sort_values(by='Depth (m)') 

    fig, axs = plt.subplots(1, 4, figsize=(20, 6), sharey=True)
    fig.suptitle(f'Profiles on {date}', fontsize=36)

    axs[0].plot(group['Temperature (°C)'], group['Depth (m)'])
    axs[0].set_xlabel('Temperature (°C)')
    axs[0].set_ylabel('Depth (m)')
    axs[0].invert_yaxis()

    axs[1].plot(group['Conductivity (µS/cm)'], group['Depth (m)'])
    axs[1].set_xlabel('Conductivity (µS/cm)')

    axs[2].plot(group['Salinity (PSS)'], group['Depth (m)'])
    axs[2].set_xlabel('Salinity (PSS)')

    axs[3].plot(group['Density (kg/m³)'], group['Depth (m)'])
    axs[3].set_xlabel('Density (kg/m³)')

    plt.tight_layout()

    img_path = os.path.join(output_dir, f"profile_{date}.png")
    fig.savefig(img_path)
    plt.close(fig)

    # Store path and representative coordinates (first row)
    rep_lat = group.iloc[0]['Latitude']
    rep_lon = group.iloc[0]['Longitude']
    image_paths[date] = (img_path, rep_lat, rep_lon)


# Step 1: Create a DataFrame from the dictionary
image_df = pd.DataFrame.from_dict(image_paths, orient='index', columns=['ImagePath', 'Latitude_dummy', 'Longitude_dummy'])

# Step 2: Reset the index to get the keys (file names) as a column
image_df.reset_index(inplace=True)
image_df.rename(columns={'index': 'File Name'}, inplace=True)

# Step 3: Merge with your existing cast_locations DataFrame on 'File Name'
cast_locations = cast_locations.merge(image_df[['File Name', 'ImagePath']], on='File Name', how='left')     


# Step 1: Create a DataFrame from the dictionary
image_df = pd.DataFrame.from_dict(image_paths, orient='index', columns=['ImagePath', 'Latitude_dummy', 'Longitude_dummy'])

# Step 2: Reset the index to get the keys (file names) as a column
image_df.reset_index(inplace=True)
image_df.rename(columns={'index': 'File Name'}, inplace=True)

# Step 3: Merge with your existing cast_locations DataFrame on 'File Name'
cast_locations = cast_locations.merge(image_df[['File Name', 'ImagePath']], on='File Name', how='left')



